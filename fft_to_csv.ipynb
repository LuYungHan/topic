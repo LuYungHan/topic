{
 "cells": [
  {
   "cell_type": "code",
   "execution_count": 2,
   "id": "cb5f553b",
   "metadata": {
    "scrolled": true
   },
   "outputs": [
    {
     "name": "stdout",
     "output_type": "stream",
     "text": [
      "\n",
      "[[129 0.0 0.01 ... 4.378588977147045e-05 1.8257717242593591e-07\n",
      "  1.7853512882158437e-06]\n",
      " [130 0.0 0.01 ... 6.246973654243167e-05 4.373697601137487e-07\n",
      "  2.2424287212424096e-06]\n",
      " [131 0.03 0.01 ... 8.377790478592359e-05 8.802431564286618e-07\n",
      "  2.740934447028112e-06]\n",
      " ...\n",
      " [1376 2.44 1.36 ... 0.39480067433387855 0.01825609179301215\n",
      "  0.004578845313571294]\n",
      " [1377 0.21 0.61 ... 0.29507588883166513 0.015029031813624832\n",
      "  0.004874538928332484]\n",
      " [1378 0.21 0.61 ... 0.20199400841466683 0.011887719971944419\n",
      "  0.003746399425826062]]\n"
     ]
    }
   ],
   "source": [
    "import serial\n",
    "import csv\n",
    "import time\n",
    "import pandas as pd\n",
    "from datetime import datetime, timedelta\n",
    "from time import sleep\n",
    "import numpy as np\n",
    "import matplotlib.pyplot as plt\n",
    "from sklearn.model_selection import train_test_split\n",
    "from sklearn.svm import SVC\n",
    "from sklearn.metrics import classification_report\n",
    "from sklearn.tree import DecisionTreeClassifier\n",
    "from sklearn.ensemble import RandomForestClassifier\n",
    "from scipy import signal\n",
    "import matplotlib.pyplot as plt\n",
    "import math\n",
    "from PIL import Image\n",
    "\n",
    "np.random.seed(202205456)\n",
    "\n",
    "data0506 = [\n",
    "            \".new_data/手2022-05-06 114900-4.csv\",\n",
    "            \".new_data/手2022-05-06 113600-4.csv\",\n",
    "            \"./new_data/手2022-05-06 115200-2.csv\",\n",
    "            \"./new_data/腳2022-05-06 120000-4.csv\",\n",
    "            \"./new_data/腳2022-05-06 120300-3.csv\",\n",
    "            \"./new_data/腳2022-05-06 120500-4.csv\",\n",
    "            \"./腳_1.csv\"]\n",
    "                                                    \n",
    "data0510 = [\n",
    "            \"./0510data/手腳2022-05-10 104600.csv\", #0\n",
    "            \"./0510data/手腳2022-05-10 104400.csv\",#\n",
    "            \"./0510data/手腳2022-05-10 104800.csv\",\n",
    "            \"./0510data/手腳2022-05-10 104000.csv\",\n",
    "            \"./0510data/手2022-05-10 103600.csv\",\n",
    "            \"./0510data/手2022-05-10 103800.csv\",\n",
    "            \"./0510data/手2022-05-10 104000.csv\",\n",
    "            \"./0510data/手2022-05-10 103600優化.csv\",#7\n",
    "            \"./0510data/手2022-05-10 103800優化.csv\",#8\n",
    "            \"./0510data/手2022-05-10 104000優化.csv\",#9\n",
    "            \"./0510data/腳2022-05-10 103600優化.csv\",#10\n",
    "            \"./0510data/腳2022-05-10 103800優化.csv\",#11\n",
    "            \"./0510data/腳2022-05-10 104000優化.csv\",#12\n",
    "            \"./0510data/腳2022-05-10 104000.csv\"]\n",
    "\n",
    "def RF(data):\n",
    "    data = np.array(pd.read_csv(data))\n",
    "    add = []\n",
    "    fs_start = 8\n",
    "    fs_end = len(data[:,1])-17 + 8 \n",
    "    for i in range(len(data[:,1])-17):\n",
    "        add.append([])\n",
    "#     data = np.array(pd.read_csv(data))\n",
    "    f, t, Zxx = signal.stft(data[:,3],fs=1,noverlap=17,nperseg=18,nfft=1297,return_onesided= False,padded=True,detrend=False,boundary=None)\n",
    "    for i in range (len(Zxx[100,:])):\n",
    "        add[i].append((Zxx[100,i].conjugate()*Zxx[100,i]).real)\n",
    "        add[i].append((Zxx[600,i].conjugate()*Zxx[600,i]).real)\n",
    "        add[i].append((Zxx[800,i].conjugate()*Zxx[800,i]).real)\n",
    "    data = np.append(data[fs_start:fs_end,:], add , axis=1)\n",
    "    pandasData={\"Xg\":data[:,1],\"Yg\":data[:,2],\"Zg\":data[:,3],\"Xm\":data[:,4],\"Ym\":data[:,5],\"Zm\":data[:,6],\"Xa\":data[:,7],\"Ya\":data[:,8],\"Za\":data[:,9],\"Xq\":data[:,10],\"Yq\":data[:,11],\"Zq\":data[:,12],\"Direction\":data[:,13],\"SensorTime\":data[:,14],\"Time\":data[:,15],\"Label\":data[:,16],\"Fft1\":data[:,17],\"Fft2\":data[:,18],\"Fft3\":data[:,19]}\n",
    "    df = pd.DataFrame(pandasData)\n",
    "    df.to_csv('AfterFft_40_Foot'+'.csv')\n",
    "for i in range(1):\n",
    "    print(\"\")\n",
    "    RF(data0510[i+12])"
   ]
  },
  {
   "cell_type": "code",
   "execution_count": null,
   "id": "88c3130f",
   "metadata": {},
   "outputs": [],
   "source": []
  }
 ],
 "metadata": {
  "kernelspec": {
   "display_name": "Python 3 (ipykernel)",
   "language": "python",
   "name": "python3"
  },
  "language_info": {
   "codemirror_mode": {
    "name": "ipython",
    "version": 3
   },
   "file_extension": ".py",
   "mimetype": "text/x-python",
   "name": "python",
   "nbconvert_exporter": "python",
   "pygments_lexer": "ipython3",
   "version": "3.9.7"
  }
 },
 "nbformat": 4,
 "nbformat_minor": 5
}
